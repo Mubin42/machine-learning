{
  "nbformat": 4,
  "nbformat_minor": 0,
  "metadata": {
    "colab": {
      "name": "Multiple Linear Regression.ipynb",
      "provenance": []
    },
    "kernelspec": {
      "name": "python3",
      "display_name": "Python 3"
    },
    "language_info": {
      "name": "python"
    }
  },
  "cells": [
    {
      "cell_type": "code",
      "source": [
        "import numpy as np\n",
        "import matplotlib.pyplot as plt\n",
        "import pandas as pd"
      ],
      "metadata": {
        "id": "JKEGc0SnvO5_"
      },
      "execution_count": 10,
      "outputs": []
    },
    {
      "cell_type": "code",
      "execution_count": 11,
      "metadata": {
        "id": "9INZAhyWjDVn"
      },
      "outputs": [],
      "source": [
        "!pip install -U -q PyDrive\n",
        "from pydrive.auth import GoogleAuth\n",
        "from pydrive.drive import GoogleDrive\n",
        "from google.colab import auth\n",
        "from oauth2client.client import GoogleCredentials\n",
        "# Authenticate and create the PyDrive client.\n",
        "auth.authenticate_user()\n",
        "gauth = GoogleAuth()\n",
        "gauth.credentials = GoogleCredentials.get_application_default()\n",
        "drive = GoogleDrive(gauth)"
      ]
    },
    {
      "cell_type": "code",
      "source": [
        "link = 'https://drive.google.com/file/d/1v8Hat-YWOEFgdAbMAhVlCplPafryIQUa/view?usp=sharing'\n",
        "\n",
        "# to get the id part of the file\n",
        "id = link.split(\"/\")[-2]\n",
        " \n",
        "downloaded = drive.CreateFile({'id':id})\n",
        "downloaded.GetContentFile('50_startups.csv') \n",
        " \n",
        "dataset = pd.read_csv('50_startups.csv')\n",
        "print(dataset.shape)\n",
        "dataset.head()"
      ],
      "metadata": {
        "colab": {
          "base_uri": "https://localhost:8080/",
          "height": 224
        },
        "id": "IkDMRs3vuyA5",
        "outputId": "77cde6f2-8787-48d5-d6e7-06495a40f04d"
      },
      "execution_count": 12,
      "outputs": [
        {
          "output_type": "stream",
          "name": "stdout",
          "text": [
            "(50, 5)\n"
          ]
        },
        {
          "output_type": "execute_result",
          "data": {
            "text/plain": [
              "   R&D Spend  Administration  Marketing Spend       State     Profit\n",
              "0  165349.20       136897.80        471784.10    New York  192261.83\n",
              "1  162597.70       151377.59        443898.53  California  191792.06\n",
              "2  153441.51       101145.55        407934.54     Florida  191050.39\n",
              "3  144372.41       118671.85        383199.62    New York  182901.99\n",
              "4  142107.34        91391.77        366168.42     Florida  166187.94"
            ],
            "text/html": [
              "\n",
              "  <div id=\"df-8f68fddd-07ef-405d-8e35-bca755b80868\">\n",
              "    <div class=\"colab-df-container\">\n",
              "      <div>\n",
              "<style scoped>\n",
              "    .dataframe tbody tr th:only-of-type {\n",
              "        vertical-align: middle;\n",
              "    }\n",
              "\n",
              "    .dataframe tbody tr th {\n",
              "        vertical-align: top;\n",
              "    }\n",
              "\n",
              "    .dataframe thead th {\n",
              "        text-align: right;\n",
              "    }\n",
              "</style>\n",
              "<table border=\"1\" class=\"dataframe\">\n",
              "  <thead>\n",
              "    <tr style=\"text-align: right;\">\n",
              "      <th></th>\n",
              "      <th>R&amp;D Spend</th>\n",
              "      <th>Administration</th>\n",
              "      <th>Marketing Spend</th>\n",
              "      <th>State</th>\n",
              "      <th>Profit</th>\n",
              "    </tr>\n",
              "  </thead>\n",
              "  <tbody>\n",
              "    <tr>\n",
              "      <th>0</th>\n",
              "      <td>165349.20</td>\n",
              "      <td>136897.80</td>\n",
              "      <td>471784.10</td>\n",
              "      <td>New York</td>\n",
              "      <td>192261.83</td>\n",
              "    </tr>\n",
              "    <tr>\n",
              "      <th>1</th>\n",
              "      <td>162597.70</td>\n",
              "      <td>151377.59</td>\n",
              "      <td>443898.53</td>\n",
              "      <td>California</td>\n",
              "      <td>191792.06</td>\n",
              "    </tr>\n",
              "    <tr>\n",
              "      <th>2</th>\n",
              "      <td>153441.51</td>\n",
              "      <td>101145.55</td>\n",
              "      <td>407934.54</td>\n",
              "      <td>Florida</td>\n",
              "      <td>191050.39</td>\n",
              "    </tr>\n",
              "    <tr>\n",
              "      <th>3</th>\n",
              "      <td>144372.41</td>\n",
              "      <td>118671.85</td>\n",
              "      <td>383199.62</td>\n",
              "      <td>New York</td>\n",
              "      <td>182901.99</td>\n",
              "    </tr>\n",
              "    <tr>\n",
              "      <th>4</th>\n",
              "      <td>142107.34</td>\n",
              "      <td>91391.77</td>\n",
              "      <td>366168.42</td>\n",
              "      <td>Florida</td>\n",
              "      <td>166187.94</td>\n",
              "    </tr>\n",
              "  </tbody>\n",
              "</table>\n",
              "</div>\n",
              "      <button class=\"colab-df-convert\" onclick=\"convertToInteractive('df-8f68fddd-07ef-405d-8e35-bca755b80868')\"\n",
              "              title=\"Convert this dataframe to an interactive table.\"\n",
              "              style=\"display:none;\">\n",
              "        \n",
              "  <svg xmlns=\"http://www.w3.org/2000/svg\" height=\"24px\"viewBox=\"0 0 24 24\"\n",
              "       width=\"24px\">\n",
              "    <path d=\"M0 0h24v24H0V0z\" fill=\"none\"/>\n",
              "    <path d=\"M18.56 5.44l.94 2.06.94-2.06 2.06-.94-2.06-.94-.94-2.06-.94 2.06-2.06.94zm-11 1L8.5 8.5l.94-2.06 2.06-.94-2.06-.94L8.5 2.5l-.94 2.06-2.06.94zm10 10l.94 2.06.94-2.06 2.06-.94-2.06-.94-.94-2.06-.94 2.06-2.06.94z\"/><path d=\"M17.41 7.96l-1.37-1.37c-.4-.4-.92-.59-1.43-.59-.52 0-1.04.2-1.43.59L10.3 9.45l-7.72 7.72c-.78.78-.78 2.05 0 2.83L4 21.41c.39.39.9.59 1.41.59.51 0 1.02-.2 1.41-.59l7.78-7.78 2.81-2.81c.8-.78.8-2.07 0-2.86zM5.41 20L4 18.59l7.72-7.72 1.47 1.35L5.41 20z\"/>\n",
              "  </svg>\n",
              "      </button>\n",
              "      \n",
              "  <style>\n",
              "    .colab-df-container {\n",
              "      display:flex;\n",
              "      flex-wrap:wrap;\n",
              "      gap: 12px;\n",
              "    }\n",
              "\n",
              "    .colab-df-convert {\n",
              "      background-color: #E8F0FE;\n",
              "      border: none;\n",
              "      border-radius: 50%;\n",
              "      cursor: pointer;\n",
              "      display: none;\n",
              "      fill: #1967D2;\n",
              "      height: 32px;\n",
              "      padding: 0 0 0 0;\n",
              "      width: 32px;\n",
              "    }\n",
              "\n",
              "    .colab-df-convert:hover {\n",
              "      background-color: #E2EBFA;\n",
              "      box-shadow: 0px 1px 2px rgba(60, 64, 67, 0.3), 0px 1px 3px 1px rgba(60, 64, 67, 0.15);\n",
              "      fill: #174EA6;\n",
              "    }\n",
              "\n",
              "    [theme=dark] .colab-df-convert {\n",
              "      background-color: #3B4455;\n",
              "      fill: #D2E3FC;\n",
              "    }\n",
              "\n",
              "    [theme=dark] .colab-df-convert:hover {\n",
              "      background-color: #434B5C;\n",
              "      box-shadow: 0px 1px 3px 1px rgba(0, 0, 0, 0.15);\n",
              "      filter: drop-shadow(0px 1px 2px rgba(0, 0, 0, 0.3));\n",
              "      fill: #FFFFFF;\n",
              "    }\n",
              "  </style>\n",
              "\n",
              "      <script>\n",
              "        const buttonEl =\n",
              "          document.querySelector('#df-8f68fddd-07ef-405d-8e35-bca755b80868 button.colab-df-convert');\n",
              "        buttonEl.style.display =\n",
              "          google.colab.kernel.accessAllowed ? 'block' : 'none';\n",
              "\n",
              "        async function convertToInteractive(key) {\n",
              "          const element = document.querySelector('#df-8f68fddd-07ef-405d-8e35-bca755b80868');\n",
              "          const dataTable =\n",
              "            await google.colab.kernel.invokeFunction('convertToInteractive',\n",
              "                                                     [key], {});\n",
              "          if (!dataTable) return;\n",
              "\n",
              "          const docLinkHtml = 'Like what you see? Visit the ' +\n",
              "            '<a target=\"_blank\" href=https://colab.research.google.com/notebooks/data_table.ipynb>data table notebook</a>'\n",
              "            + ' to learn more about interactive tables.';\n",
              "          element.innerHTML = '';\n",
              "          dataTable['output_type'] = 'display_data';\n",
              "          await google.colab.output.renderOutput(dataTable, element);\n",
              "          const docLink = document.createElement('div');\n",
              "          docLink.innerHTML = docLinkHtml;\n",
              "          element.appendChild(docLink);\n",
              "        }\n",
              "      </script>\n",
              "    </div>\n",
              "  </div>\n",
              "  "
            ]
          },
          "metadata": {},
          "execution_count": 12
        }
      ]
    },
    {
      "cell_type": "code",
      "source": [
        "X = dataset.iloc[:, :-1]\n",
        "y = dataset.iloc[:,4]"
      ],
      "metadata": {
        "id": "aBXXF8v4vY6x"
      },
      "execution_count": 20,
      "outputs": []
    },
    {
      "cell_type": "code",
      "source": [
        "states=pd.get_dummies(X['State'], drop_first=True)\n",
        "print(states)\n"
      ],
      "metadata": {
        "colab": {
          "base_uri": "https://localhost:8080/"
        },
        "id": "NicDWgSjwKsm",
        "outputId": "ff924893-d43d-43c8-dab5-3f35409e6d0a"
      },
      "execution_count": 21,
      "outputs": [
        {
          "output_type": "stream",
          "name": "stdout",
          "text": [
            "    Florida  New York\n",
            "0         0         1\n",
            "1         0         0\n",
            "2         1         0\n",
            "3         0         1\n",
            "4         1         0\n",
            "5         0         1\n",
            "6         0         0\n",
            "7         1         0\n",
            "8         0         1\n",
            "9         0         0\n",
            "10        1         0\n",
            "11        0         0\n",
            "12        1         0\n",
            "13        0         0\n",
            "14        1         0\n",
            "15        0         1\n",
            "16        0         0\n",
            "17        0         1\n",
            "18        1         0\n",
            "19        0         1\n",
            "20        0         0\n",
            "21        0         1\n",
            "22        1         0\n",
            "23        1         0\n",
            "24        0         1\n",
            "25        0         0\n",
            "26        1         0\n",
            "27        0         1\n",
            "28        1         0\n",
            "29        0         1\n",
            "30        1         0\n",
            "31        0         1\n",
            "32        0         0\n",
            "33        1         0\n",
            "34        0         0\n",
            "35        0         1\n",
            "36        1         0\n",
            "37        0         0\n",
            "38        0         1\n",
            "39        0         0\n",
            "40        0         0\n",
            "41        1         0\n",
            "42        0         0\n",
            "43        0         1\n",
            "44        0         0\n",
            "45        0         1\n",
            "46        1         0\n",
            "47        0         0\n",
            "48        0         1\n",
            "49        0         0\n"
          ]
        }
      ]
    },
    {
      "cell_type": "code",
      "source": [
        "X = X.drop('State', axis=1)\n",
        "X = pd.concat([X, states], axis=1)\n",
        "print(X)"
      ],
      "metadata": {
        "colab": {
          "base_uri": "https://localhost:8080/"
        },
        "id": "hz6AZZd6w_Rl",
        "outputId": "91f0ae6a-0e56-48f3-f769-34480c28d24b"
      },
      "execution_count": 22,
      "outputs": [
        {
          "output_type": "stream",
          "name": "stdout",
          "text": [
            "    R&D Spend  Administration  Marketing Spend  Florida  New York\n",
            "0   165349.20       136897.80        471784.10        0         1\n",
            "1   162597.70       151377.59        443898.53        0         0\n",
            "2   153441.51       101145.55        407934.54        1         0\n",
            "3   144372.41       118671.85        383199.62        0         1\n",
            "4   142107.34        91391.77        366168.42        1         0\n",
            "5   131876.90        99814.71        362861.36        0         1\n",
            "6   134615.46       147198.87        127716.82        0         0\n",
            "7   130298.13       145530.06        323876.68        1         0\n",
            "8   120542.52       148718.95        311613.29        0         1\n",
            "9   123334.88       108679.17        304981.62        0         0\n",
            "10  101913.08       110594.11        229160.95        1         0\n",
            "11  100671.96        91790.61        249744.55        0         0\n",
            "12   93863.75       127320.38        249839.44        1         0\n",
            "13   91992.39       135495.07        252664.93        0         0\n",
            "14  119943.24       156547.42        256512.92        1         0\n",
            "15  114523.61       122616.84        261776.23        0         1\n",
            "16   78013.11       121597.55        264346.06        0         0\n",
            "17   94657.16       145077.58        282574.31        0         1\n",
            "18   91749.16       114175.79        294919.57        1         0\n",
            "19   86419.70       153514.11             0.00        0         1\n",
            "20   76253.86       113867.30        298664.47        0         0\n",
            "21   78389.47       153773.43        299737.29        0         1\n",
            "22   73994.56       122782.75        303319.26        1         0\n",
            "23   67532.53       105751.03        304768.73        1         0\n",
            "24   77044.01        99281.34        140574.81        0         1\n",
            "25   64664.71       139553.16        137962.62        0         0\n",
            "26   75328.87       144135.98        134050.07        1         0\n",
            "27   72107.60       127864.55        353183.81        0         1\n",
            "28   66051.52       182645.56        118148.20        1         0\n",
            "29   65605.48       153032.06        107138.38        0         1\n",
            "30   61994.48       115641.28         91131.24        1         0\n",
            "31   61136.38       152701.92         88218.23        0         1\n",
            "32   63408.86       129219.61         46085.25        0         0\n",
            "33   55493.95       103057.49        214634.81        1         0\n",
            "34   46426.07       157693.92        210797.67        0         0\n",
            "35   46014.02        85047.44        205517.64        0         1\n",
            "36   28663.76       127056.21        201126.82        1         0\n",
            "37   44069.95        51283.14        197029.42        0         0\n",
            "38   20229.59        65947.93        185265.10        0         1\n",
            "39   38558.51        82982.09        174999.30        0         0\n",
            "40   28754.33       118546.05        172795.67        0         0\n",
            "41   27892.92        84710.77        164470.71        1         0\n",
            "42   23640.93        96189.63        148001.11        0         0\n",
            "43   15505.73       127382.30         35534.17        0         1\n",
            "44   22177.74       154806.14         28334.72        0         0\n",
            "45    1000.23       124153.04          1903.93        0         1\n",
            "46    1315.46       115816.21        297114.46        1         0\n",
            "47       0.00       135426.92             0.00        0         0\n",
            "48     542.05        51743.15             0.00        0         1\n",
            "49       0.00       116983.80         45173.06        0         0\n"
          ]
        }
      ]
    },
    {
      "cell_type": "code",
      "source": [
        "from sklearn.model_selection import train_test_split\n",
        "X_train, X_test, y_train, y_test = train_test_split(X,y, test_size=0.2, random_state=0)"
      ],
      "metadata": {
        "id": "bl_gxpXrxbeu"
      },
      "execution_count": 23,
      "outputs": []
    },
    {
      "cell_type": "code",
      "source": [
        "# Model Fitting\n",
        "from sklearn.linear_model import LinearRegression\n",
        "regressor = LinearRegression()\n",
        "regressor.fit(X_train, y_train)"
      ],
      "metadata": {
        "colab": {
          "base_uri": "https://localhost:8080/"
        },
        "id": "_JqYd1IVyTb2",
        "outputId": "3d396d3b-4bf7-4e33-b5f0-034865339f40"
      },
      "execution_count": 24,
      "outputs": [
        {
          "output_type": "execute_result",
          "data": {
            "text/plain": [
              "LinearRegression()"
            ]
          },
          "metadata": {},
          "execution_count": 24
        }
      ]
    },
    {
      "cell_type": "code",
      "source": [
        "# Pred\n",
        "y_pred = regressor.predict(X_test)\n",
        "print(y_pred)"
      ],
      "metadata": {
        "colab": {
          "base_uri": "https://localhost:8080/"
        },
        "id": "tcqngM-AyVLu",
        "outputId": "d7e0f423-3f2c-4233-d6c0-5de548ef1560"
      },
      "execution_count": 26,
      "outputs": [
        {
          "output_type": "stream",
          "name": "stdout",
          "text": [
            "[103015.20159796 132582.27760816 132447.73845174  71976.09851258\n",
            " 178537.48221055 116161.24230165  67851.69209676  98791.73374687\n",
            " 113969.43533012 167921.0656955 ]\n"
          ]
        }
      ]
    },
    {
      "cell_type": "code",
      "source": [
        "# compare y_pred and y_test\n",
        "from sklearn.metrics import r2_score\n",
        "score = r2_score(y_test,y_pred)\n",
        "print(score)"
      ],
      "metadata": {
        "colab": {
          "base_uri": "https://localhost:8080/"
        },
        "id": "Wxtq8FTvyd9P",
        "outputId": "c9b57107-3975-4a7c-8ce8-d321fbec8dff"
      },
      "execution_count": 27,
      "outputs": [
        {
          "output_type": "stream",
          "name": "stdout",
          "text": [
            "0.9347068473282423\n"
          ]
        }
      ]
    }
  ]
}